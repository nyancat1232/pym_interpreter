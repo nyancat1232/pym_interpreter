{
 "cells": [
  {
   "cell_type": "code",
   "execution_count": 1,
   "id": "2d3b5893-8396-42e0-83c8-841471254c6d",
   "metadata": {
    "tags": []
   },
   "outputs": [],
   "source": [
    "import torch"
   ]
  },
  {
   "cell_type": "code",
   "execution_count": 2,
   "id": "78060f1d-6bcf-4087-889b-7d9d37c4bff8",
   "metadata": {
    "tags": []
   },
   "outputs": [],
   "source": [
    "from pyplus.pytorch.simple import TorchPlus"
   ]
  },
  {
   "cell_type": "code",
   "execution_count": 20,
   "id": "4b08eb11-bfde-4907-8c55-ff192b6427c4",
   "metadata": {},
   "outputs": [],
   "source": [
    "tp = TorchPlus()\n",
    "\n",
    "def process(current_activator):\n",
    "    proc=tp.input('inpup',torch.FloatTensor([2.,3.])) * tp.parameter('par',torch.FloatTensor(1))\n",
    "    \n",
    "    tp.label('label',torch.FloatTensor([3.,4.5]))\n",
    "    return proc\n",
    "\n",
    "tp.process = process"
   ]
  },
  {
   "cell_type": "code",
   "execution_count": 21,
   "id": "1a8be4a7-ff53-4848-9727-058cbcedd05c",
   "metadata": {},
   "outputs": [],
   "source": [
    "res = tp.train(show_progress=False)"
   ]
  },
  {
   "cell_type": "code",
   "execution_count": 23,
   "id": "7919262f-a542-4603-8920-d7366e2d25b8",
   "metadata": {},
   "outputs": [
    {
     "data": {
      "text/plain": [
       "[tensor([1.4994], grad_fn=<MulBackward0>),\n",
       " tensor([2.9988], grad_fn=<MulBackward0>),\n",
       " tensor([4.4982], grad_fn=<MulBackward0>),\n",
       " tensor([5.9976], grad_fn=<MulBackward0>),\n",
       " tensor([7.4969], grad_fn=<MulBackward0>),\n",
       " tensor([8.9963], grad_fn=<MulBackward0>),\n",
       " tensor([10.4957], grad_fn=<MulBackward0>)]"
      ]
     },
     "execution_count": 23,
     "metadata": {},
     "output_type": "execute_result"
    }
   ],
   "source": [
    "res(inpup=torch.FloatTensor([1,2,3,4,5,6,7]))"
   ]
  },
  {
   "cell_type": "code",
   "execution_count": null,
   "id": "e3e6b6e9-f5ce-4a60-8fb1-9795ef177281",
   "metadata": {},
   "outputs": [],
   "source": []
  }
 ],
 "metadata": {
  "kernelspec": {
   "display_name": "Python 3 (ipykernel)",
   "language": "python",
   "name": "python3"
  },
  "language_info": {
   "codemirror_mode": {
    "name": "ipython",
    "version": 3
   },
   "file_extension": ".py",
   "mimetype": "text/x-python",
   "name": "python",
   "nbconvert_exporter": "python",
   "pygments_lexer": "ipython3",
   "version": "3.11.6"
  }
 },
 "nbformat": 4,
 "nbformat_minor": 5
}
