{
 "cells": [
  {
   "cell_type": "code",
   "execution_count": 25,
   "id": "0ac546b5-974b-47a9-9831-2b554f202f97",
   "metadata": {
    "tags": []
   },
   "outputs": [],
   "source": [
    "#model SimpleExample:\n",
    "#    a = 3 + ?\n",
    "#    b = a * ?\n",
    "#    10 ?= b"
   ]
  },
  {
   "cell_type": "code",
   "execution_count": 26,
   "id": "9ea82c97-7544-4bb5-bc9a-75c06ed614c2",
   "metadata": {
    "tags": []
   },
   "outputs": [],
   "source": [
    "import torch"
   ]
  },
  {
   "cell_type": "code",
   "execution_count": 38,
   "id": "e98e5bc8-7a8f-4a9a-9157-27be6d82e3a9",
   "metadata": {
    "tags": []
   },
   "outputs": [],
   "source": [
    "from pyplus.pytorch.simple import TorchPlus\n",
    "\n",
    "tp = TorchPlus()\n",
    "tp.meta_optimizer = torch.optim.SGD\n",
    "tp.meta_optimizer_epoch = 300\n",
    "tp.meta_optimizer_learning_rate = 0.01\n",
    "tp.meta_error_measurement = torch.nn.MSELoss\n",
    "def assign_values(self:TorchPlus):\n",
    "    self.all_tensors['___c_0_0']  = torch.FloatTensor([3])\n",
    "    self.all_tensors['___p_0_1']  = torch.FloatTensor(1)\n",
    "    self.all_tensors['___p_0_1'].requires_grad=True\n",
    "    #self.all_tensors['___c_1_0']  = self.all_tensors['___c_0_0'] + self.all_tensors['___p_0_1']\n",
    "    self.all_tensors['___p_1_1']  = torch.FloatTensor(1)\n",
    "    self.all_tensors['___p_1_1'].requires_grad=True\n",
    "    self.all_tensors['___c_r_l']  = torch.FloatTensor([3])\n",
    "    #elf.all_tensors['___c_r_r']  = self.all_tensors['___c_1_0'] * self.all_tensors['___p_1_1']\n",
    "\n",
    "tp.assign_process_values=assign_values\n",
    "def assign_process(self:TorchPlus):\n",
    "    self._pred = ( self.all_tensors['___c_0_0'] + self.all_tensors['___p_0_1'] ) * self.all_tensors['___p_1_1']\n",
    "    self._label = self.all_tensors['___c_r_l']\n",
    "tp.assign_process_process = assign_process\n"
   ]
  },
  {
   "cell_type": "code",
   "execution_count": 39,
   "id": "f9e6f1e3-5c16-4031-b37e-6dfc899e62b0",
   "metadata": {
    "tags": []
   },
   "outputs": [
    {
     "data": {
      "text/plain": [
       "[tensor([0.1337], requires_grad=True), tensor([0.9573], requires_grad=True)]"
      ]
     },
     "execution_count": 39,
     "metadata": {},
     "output_type": "execute_result"
    }
   ],
   "source": [
    "tp.train()"
   ]
  },
  {
   "cell_type": "code",
   "execution_count": 104,
   "id": "c1d95289-c1d3-474b-ba6a-828228a559f1",
   "metadata": {
    "tags": []
   },
   "outputs": [
    {
     "data": {
      "text/plain": [
       "tensor([[1500809.0000],\n",
       "        [2357211.5000],\n",
       "        [ 794036.5000],\n",
       "        ...,\n",
       "        [2337890.7500],\n",
       "        [2206151.0000],\n",
       "        [3377359.0000]], grad_fn=<MmBackward0>)"
      ]
     },
     "execution_count": 104,
     "metadata": {},
     "output_type": "execute_result"
    }
   ],
   "source": [
    "mnist_test.train_data.float().reshape(mnist_test.train_data.shape[0],-1) @ Hidden @ Out"
   ]
  },
  {
   "cell_type": "code",
   "execution_count": 105,
   "id": "f6be5999-9acc-400c-ad20-24eec25afd4e",
   "metadata": {
    "tags": []
   },
   "outputs": [
    {
     "data": {
      "text/plain": [
       "tensor([[16.3707],\n",
       "        [15.9951],\n",
       "        [15.8699],\n",
       "        [16.2360],\n",
       "        [16.3383],\n",
       "        [16.0468],\n",
       "        [15.9639],\n",
       "        [16.0041],\n",
       "        [16.1168],\n",
       "        [16.3451]], requires_grad=True)"
      ]
     },
     "execution_count": 105,
     "metadata": {},
     "output_type": "execute_result"
    }
   ],
   "source": [
    "Out"
   ]
  },
  {
   "cell_type": "code",
   "execution_count": null,
   "id": "8f1ec6d7-21b9-460e-b45c-7cb2252dee57",
   "metadata": {},
   "outputs": [],
   "source": []
  }
 ],
 "metadata": {
  "kernelspec": {
   "display_name": "Python 3 (ipykernel)",
   "language": "python",
   "name": "python3"
  },
  "language_info": {
   "codemirror_mode": {
    "name": "ipython",
    "version": 3
   },
   "file_extension": ".py",
   "mimetype": "text/x-python",
   "name": "python",
   "nbconvert_exporter": "python",
   "pygments_lexer": "ipython3",
   "version": "3.11.6"
  }
 },
 "nbformat": 4,
 "nbformat_minor": 5
}
