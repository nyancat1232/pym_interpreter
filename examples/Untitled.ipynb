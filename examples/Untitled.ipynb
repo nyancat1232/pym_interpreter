{
 "cells": [
  {
   "cell_type": "code",
   "execution_count": 1,
   "id": "9defc038-4323-4717-a04b-bdaddf1871a9",
   "metadata": {
    "tags": []
   },
   "outputs": [],
   "source": [
    "srcs='''x = torch.linspace(-math.pi, 1.*math.pi, 2000, dtype=dtype)\n",
    "y = torch.sin(x)\n",
    "\n",
    "y ?= ?0 + ?0.*x + ?0*x**2 + ?0*x**3'''\n",
    "lines=srcs.splitlines()"
   ]
  },
  {
   "cell_type": "code",
   "execution_count": 5,
   "id": "98e0ad23-2bd7-4704-837e-bb3f4c2eed3c",
   "metadata": {
    "tags": []
   },
   "outputs": [
    {
     "name": "stdout",
     "output_type": "stream",
     "text": [
      "None\n",
      "None\n",
      "None\n",
      "None\n"
     ]
    }
   ],
   "source": [
    "def parse_line(line):\n",
    "    return \n",
    "\n",
    "for line in lines:\n",
    "    print(parse_line(line))"
   ]
  },
  {
   "cell_type": "code",
   "execution_count": null,
   "id": "e239d0e9-67ae-4923-9d7c-839dd5797ce6",
   "metadata": {},
   "outputs": [],
   "source": []
  },
  {
   "cell_type": "code",
   "execution_count": null,
   "id": "6cb27a58-fd7c-44a3-9681-03904af7fdba",
   "metadata": {},
   "outputs": [],
   "source": []
  }
 ],
 "metadata": {
  "kernelspec": {
   "display_name": "Python 3 (ipykernel)",
   "language": "python",
   "name": "python3"
  },
  "language_info": {
   "codemirror_mode": {
    "name": "ipython",
    "version": 3
   },
   "file_extension": ".py",
   "mimetype": "text/x-python",
   "name": "python",
   "nbconvert_exporter": "python",
   "pygments_lexer": "ipython3",
   "version": "3.11.6"
  }
 },
 "nbformat": 4,
 "nbformat_minor": 5
}
