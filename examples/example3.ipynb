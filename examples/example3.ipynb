{
 "cells": [
  {
   "cell_type": "code",
   "execution_count": 1,
   "id": "6b61f1e1-f6eb-4e93-a449-0efd5858deff",
   "metadata": {
    "tags": []
   },
   "outputs": [],
   "source": [
    "import torch\n",
    "from torch.utils.data.dataset import Dataset\n",
    "from torchvision.datasets.mnist import MNIST\n",
    "from torchvision.transforms import ToTensor\n"
   ]
  },
  {
   "cell_type": "code",
   "execution_count": 2,
   "id": "a498bfd0-4a70-422d-b9db-9764c7c98699",
   "metadata": {
    "tags": []
   },
   "outputs": [
    {
     "name": "stdout",
     "output_type": "stream",
     "text": [
      "다음 기기로 학습합니다: cpu\n"
     ]
    }
   ],
   "source": [
    "\n",
    "USE_CUDA = torch.cuda.is_available() # GPU를 사용가능하면 True, 아니라면 False를 리턴\n",
    "device = torch.device(\"cuda\" if USE_CUDA else \"cpu\") # GPU 사용 가능하면 사용하고 아니면 CPU 사용\n",
    "print(\"다음 기기로 학습합니다:\", device)"
   ]
  },
  {
   "cell_type": "code",
   "execution_count": 3,
   "id": "7f92b420-84f8-4a81-9596-dfd041c85d89",
   "metadata": {
    "tags": []
   },
   "outputs": [],
   "source": [
    "\n",
    "\n",
    "mnist_train = MNIST(root='MNIST_data/',train=True,transform=ToTensor(),download = True)\n",
    "mnist_test = MNIST(root='MNIST_data/',train=False,transform=ToTensor(),download = True)"
   ]
  },
  {
   "cell_type": "code",
   "execution_count": 4,
   "id": "0ac546b5-974b-47a9-9831-2b554f202f97",
   "metadata": {
    "tags": []
   },
   "outputs": [],
   "source": [
    "#model MNist:\n",
    "#   input_flatten = mnist_train.train_data.float().reshape(mnist_train.train_data.shape[0],-1)\n",
    "#   out = input_flatten[1] @ ?ToNodes(10)\n",
    "#   out_predict = torch.argmax(out)\n",
    "#   input_flatten[0] ?= out_predict"
   ]
  },
  {
   "cell_type": "code",
   "execution_count": 7,
   "id": "e98e5bc8-7a8f-4a9a-9157-27be6d82e3a9",
   "metadata": {
    "tags": []
   },
   "outputs": [],
   "source": [
    "\n",
    "from pyplus.pytorch.simple import TorchPlus\n",
    "\n",
    "tp = TorchPlus()\n",
    "tp.meta_optimizer = torch.optim.SGD\n",
    "tp.meta_optimizer_epoch = 300\n",
    "tp.meta_optimizer_learning_rate = 0.01\n",
    "tp.meta_error_measurement = torch.nn.MSELoss\n",
    "def assign_values(self):\n",
    "    self.all_tensors['input_flatten'] = mnist_train.train_data.float().reshape(mnist_train.train_data.shape[0],-1)\n",
    "    self.all_tensors['___p_0']  = torch.rand(self.all_tensors['input_flatten'][1].shape[-1],10,require_grads=True)\n",
    "tp.assign_process_values=assign_values\n",
    "def assign_process(self):\n",
    "    input_flatten = self.all_tensors['input_flatten']\n",
    "    out = input_flatten[1] @ self.all_tensors['___p_0']\n",
    "    out_predict = torch.argmax(out)\n",
    "    \n",
    "    \n",
    "    self._pred = out_predict\n",
    "    self._label = input_flatten[0]\n",
    "tp.assign_process_process = assign_process\n"
   ]
  },
  {
   "cell_type": "code",
   "execution_count": 8,
   "id": "f9e6f1e3-5c16-4031-b37e-6dfc899e62b0",
   "metadata": {
    "tags": []
   },
   "outputs": [
    {
     "ename": "TypeError",
     "evalue": "rand() received an invalid combination of arguments - got (int, int, require_grads=bool), but expected one of:\n * (tuple of ints size, *, torch.Generator generator, tuple of names names, torch.dtype dtype, torch.layout layout, torch.device device, bool pin_memory, bool requires_grad)\n * (tuple of ints size, *, torch.Generator generator, Tensor out, torch.dtype dtype, torch.layout layout, torch.device device, bool pin_memory, bool requires_grad)\n * (tuple of ints size, *, Tensor out, torch.dtype dtype, torch.layout layout, torch.device device, bool pin_memory, bool requires_grad)\n * (tuple of ints size, *, tuple of names names, torch.dtype dtype, torch.layout layout, torch.device device, bool pin_memory, bool requires_grad)\n",
     "output_type": "error",
     "traceback": [
      "\u001b[0;31m---------------------------------------------------------------------------\u001b[0m",
      "\u001b[0;31mTypeError\u001b[0m                                 Traceback (most recent call last)",
      "Cell \u001b[0;32mIn[8], line 1\u001b[0m\n\u001b[0;32m----> 1\u001b[0m Hidden,Out \u001b[38;5;241m=\u001b[39m \u001b[43mtp\u001b[49m\u001b[38;5;241;43m.\u001b[39;49m\u001b[43mtrain\u001b[49m\u001b[43m(\u001b[49m\u001b[43m)\u001b[49m\n",
      "File \u001b[0;32m~/Desktop/code/git/pym_interpreter/pyplus/pytorch/simple.py:29\u001b[0m, in \u001b[0;36mTorchPlus.train\u001b[0;34m(self)\u001b[0m\n\u001b[1;32m     27\u001b[0m \u001b[38;5;28;01mdef\u001b[39;00m \u001b[38;5;21mtrain\u001b[39m(\u001b[38;5;28mself\u001b[39m):\n\u001b[1;32m     28\u001b[0m     \u001b[38;5;66;03m#all terminals\u001b[39;00m\n\u001b[0;32m---> 29\u001b[0m     \u001b[38;5;28;43mself\u001b[39;49m\u001b[38;5;241;43m.\u001b[39;49m\u001b[43massign_process_values\u001b[49m\u001b[43m(\u001b[49m\u001b[38;5;28;43mself\u001b[39;49m\u001b[43m)\u001b[49m\n\u001b[1;32m     31\u001b[0m     \u001b[38;5;28;01mfor\u001b[39;00m _ \u001b[38;5;129;01min\u001b[39;00m \u001b[38;5;28mrange\u001b[39m(\u001b[38;5;28mself\u001b[39m\u001b[38;5;241m.\u001b[39mmeta_optimizer_epoch):\n\u001b[1;32m     32\u001b[0m         \u001b[38;5;66;03m#process\u001b[39;00m\n\u001b[1;32m     33\u001b[0m         \u001b[38;5;28mself\u001b[39m\u001b[38;5;241m.\u001b[39massign_process_process(\u001b[38;5;28mself\u001b[39m)\n",
      "Cell \u001b[0;32mIn[7], line 10\u001b[0m, in \u001b[0;36massign_values\u001b[0;34m(self)\u001b[0m\n\u001b[1;32m      8\u001b[0m \u001b[38;5;28;01mdef\u001b[39;00m \u001b[38;5;21massign_values\u001b[39m(\u001b[38;5;28mself\u001b[39m):\n\u001b[1;32m      9\u001b[0m     \u001b[38;5;28mself\u001b[39m\u001b[38;5;241m.\u001b[39mall_tensors[\u001b[38;5;124m'\u001b[39m\u001b[38;5;124minput_flatten\u001b[39m\u001b[38;5;124m'\u001b[39m] \u001b[38;5;241m=\u001b[39m mnist_train\u001b[38;5;241m.\u001b[39mtrain_data\u001b[38;5;241m.\u001b[39mfloat()\u001b[38;5;241m.\u001b[39mreshape(mnist_train\u001b[38;5;241m.\u001b[39mtrain_data\u001b[38;5;241m.\u001b[39mshape[\u001b[38;5;241m0\u001b[39m],\u001b[38;5;241m-\u001b[39m\u001b[38;5;241m1\u001b[39m)\n\u001b[0;32m---> 10\u001b[0m     \u001b[38;5;28mself\u001b[39m\u001b[38;5;241m.\u001b[39mall_tensors[\u001b[38;5;124m'\u001b[39m\u001b[38;5;124m___p_0\u001b[39m\u001b[38;5;124m'\u001b[39m]  \u001b[38;5;241m=\u001b[39m \u001b[43mtorch\u001b[49m\u001b[38;5;241;43m.\u001b[39;49m\u001b[43mrand\u001b[49m\u001b[43m(\u001b[49m\u001b[38;5;28;43mself\u001b[39;49m\u001b[38;5;241;43m.\u001b[39;49m\u001b[43mall_tensors\u001b[49m\u001b[43m[\u001b[49m\u001b[38;5;124;43m'\u001b[39;49m\u001b[38;5;124;43minput_flatten\u001b[39;49m\u001b[38;5;124;43m'\u001b[39;49m\u001b[43m]\u001b[49m\u001b[43m[\u001b[49m\u001b[38;5;241;43m1\u001b[39;49m\u001b[43m]\u001b[49m\u001b[38;5;241;43m.\u001b[39;49m\u001b[43mshape\u001b[49m\u001b[43m[\u001b[49m\u001b[38;5;241;43m-\u001b[39;49m\u001b[38;5;241;43m1\u001b[39;49m\u001b[43m]\u001b[49m\u001b[43m,\u001b[49m\u001b[38;5;241;43m10\u001b[39;49m\u001b[43m,\u001b[49m\u001b[43mrequire_grads\u001b[49m\u001b[38;5;241;43m=\u001b[39;49m\u001b[38;5;28;43;01mTrue\u001b[39;49;00m\u001b[43m)\u001b[49m\n",
      "\u001b[0;31mTypeError\u001b[0m: rand() received an invalid combination of arguments - got (int, int, require_grads=bool), but expected one of:\n * (tuple of ints size, *, torch.Generator generator, tuple of names names, torch.dtype dtype, torch.layout layout, torch.device device, bool pin_memory, bool requires_grad)\n * (tuple of ints size, *, torch.Generator generator, Tensor out, torch.dtype dtype, torch.layout layout, torch.device device, bool pin_memory, bool requires_grad)\n * (tuple of ints size, *, Tensor out, torch.dtype dtype, torch.layout layout, torch.device device, bool pin_memory, bool requires_grad)\n * (tuple of ints size, *, tuple of names names, torch.dtype dtype, torch.layout layout, torch.device device, bool pin_memory, bool requires_grad)\n"
     ]
    }
   ],
   "source": [
    "Hidden,Out = tp.train()"
   ]
  },
  {
   "cell_type": "code",
   "execution_count": 104,
   "id": "c1d95289-c1d3-474b-ba6a-828228a559f1",
   "metadata": {
    "tags": []
   },
   "outputs": [
    {
     "data": {
      "text/plain": [
       "tensor([[1500809.0000],\n",
       "        [2357211.5000],\n",
       "        [ 794036.5000],\n",
       "        ...,\n",
       "        [2337890.7500],\n",
       "        [2206151.0000],\n",
       "        [3377359.0000]], grad_fn=<MmBackward0>)"
      ]
     },
     "execution_count": 104,
     "metadata": {},
     "output_type": "execute_result"
    }
   ],
   "source": [
    "mnist_test.train_data.float().reshape(mnist_test.train_data.shape[0],-1) @ Hidden @ Out"
   ]
  },
  {
   "cell_type": "code",
   "execution_count": 105,
   "id": "f6be5999-9acc-400c-ad20-24eec25afd4e",
   "metadata": {
    "tags": []
   },
   "outputs": [
    {
     "data": {
      "text/plain": [
       "tensor([[16.3707],\n",
       "        [15.9951],\n",
       "        [15.8699],\n",
       "        [16.2360],\n",
       "        [16.3383],\n",
       "        [16.0468],\n",
       "        [15.9639],\n",
       "        [16.0041],\n",
       "        [16.1168],\n",
       "        [16.3451]], requires_grad=True)"
      ]
     },
     "execution_count": 105,
     "metadata": {},
     "output_type": "execute_result"
    }
   ],
   "source": [
    "Out"
   ]
  },
  {
   "cell_type": "code",
   "execution_count": null,
   "id": "8f1ec6d7-21b9-460e-b45c-7cb2252dee57",
   "metadata": {},
   "outputs": [],
   "source": []
  }
 ],
 "metadata": {
  "kernelspec": {
   "display_name": "Python 3 (ipykernel)",
   "language": "python",
   "name": "python3"
  },
  "language_info": {
   "codemirror_mode": {
    "name": "ipython",
    "version": 3
   },
   "file_extension": ".py",
   "mimetype": "text/x-python",
   "name": "python",
   "nbconvert_exporter": "python",
   "pygments_lexer": "ipython3",
   "version": "3.11.6"
  }
 },
 "nbformat": 4,
 "nbformat_minor": 5
}
