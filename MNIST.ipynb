{
 "cells": [
  {
   "cell_type": "code",
   "execution_count": null,
   "id": "27e4fc8d-50cf-4f8a-86ca-f56ca29c6305",
   "metadata": {
    "tags": []
   },
   "outputs": [],
   "source": [
    "from torchvision.datasets.mnist import MNIST\n",
    "import torch\n",
    "from simpletorch.simple import TorchPlus,MetaDataType,CurrentStateInformation"
   ]
  },
  {
   "cell_type": "code",
   "execution_count": null,
   "id": "3cb01899-59e2-41e7-b52a-90fea753af98",
   "metadata": {
    "tags": []
   },
   "outputs": [],
   "source": [
    "mnist_data=MNIST(root='./data',download=True)"
   ]
  },
  {
   "cell_type": "code",
   "execution_count": null,
   "id": "160e3113-4102-4ad3-bb30-e982c5aefde4",
   "metadata": {
    "tags": []
   },
   "outputs": [],
   "source": [
    "torch.FloatTensor(1).dtype"
   ]
  },
  {
   "cell_type": "code",
   "execution_count": null,
   "id": "34d82eab-092f-4c55-a7d8-d05a45f5781f",
   "metadata": {
    "tags": []
   },
   "outputs": [],
   "source": [
    "mnist_data.train_data.flatten(1).shape"
   ]
  },
  {
   "cell_type": "code",
   "execution_count": null,
   "id": "006778e5-5bd4-4b67-8210-019749b129d4",
   "metadata": {
    "tags": []
   },
   "outputs": [],
   "source": [
    "class Model(TorchPlus):\n",
    "    def process(self):\n",
    "        label_tensor = self.label(mnist_data.train_labels,meta_data_type=MetaDataType.CATEGORICAL)\n",
    "        \n",
    "        start_input = self.input(mnist_data.train_data.flatten(1).float(),meta_data_type=MetaDataType.NUMERICAL,name='X')\n",
    "\n",
    "        out = self.linear(start_input,label_tensor,[512,512])\n",
    "\n",
    "        return out\n",
    "    def show_progress(self,csi:CurrentStateInformation):\n",
    "        print(f'Epoch : {csi.current_epoch} \\tIteration : {csi.current_iteration}/{csi.len_iteration}\\tLoss : {csi.current_loss}')\n",
    "\n",
    "model = Model(meta_error_measurement=torch.nn.CrossEntropyLoss,\n",
    "              meta_data_per_iteration=64,meta_optimizer_params={'lr':1e-3})"
   ]
  },
  {
   "cell_type": "code",
   "execution_count": null,
   "id": "26001f66-dd40-42fc-bf11-de2955c95b33",
   "metadata": {
    "scrolled": true,
    "tags": []
   },
   "outputs": [],
   "source": [
    "rr=model.train(epoch=5)"
   ]
  },
  {
   "cell_type": "code",
   "execution_count": null,
   "id": "4e812ab0",
   "metadata": {
    "tags": []
   },
   "outputs": [],
   "source": [
    "mnist_data.test_labels"
   ]
  },
  {
   "cell_type": "code",
   "execution_count": null,
   "id": "33be59ed-0187-4656-b79d-8ff2ca94e97e",
   "metadata": {
    "tags": []
   },
   "outputs": [],
   "source": [
    "rr(X=mnist_data.test_data.float().flatten(1))"
   ]
  },
  {
   "cell_type": "code",
   "execution_count": null,
   "id": "4d86e81e-1716-413b-94b3-367823ad0a0b",
   "metadata": {},
   "outputs": [],
   "source": []
  }
 ],
 "metadata": {
  "kernelspec": {
   "display_name": "Python 3 (ipykernel)",
   "language": "python",
   "name": "python3"
  },
  "language_info": {
   "codemirror_mode": {
    "name": "ipython",
    "version": 3
   },
   "file_extension": ".py",
   "mimetype": "text/x-python",
   "name": "python",
   "nbconvert_exporter": "python",
   "pygments_lexer": "ipython3",
   "version": "3.11.5"
  }
 },
 "nbformat": 4,
 "nbformat_minor": 5
}
